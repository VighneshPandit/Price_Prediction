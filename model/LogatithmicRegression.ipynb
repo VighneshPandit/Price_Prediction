{
 "cells": [
  {
   "cell_type": "code",
   "execution_count": 21,
   "id": "4340c53d-79a0-4133-ab1a-7d327d00b1b0",
   "metadata": {},
   "outputs": [],
   "source": [
    "import matplotlib.pyplot as plt\n",
    "import pandas as pd\n",
    "import numpy as np"
   ]
  },
  {
   "cell_type": "code",
   "execution_count": 22,
   "id": "d94ccfa3-d36e-43a8-bd3e-737847191129",
   "metadata": {},
   "outputs": [],
   "source": [
    "df = pd.read_csv(r\"E:\\Price_Prediction\\data\\car_sales_data.csv\")"
   ]
  },
  {
   "cell_type": "code",
   "execution_count": null,
   "id": "ae9a22c9-ae59-46da-91f8-24b3b09feb24",
   "metadata": {},
   "outputs": [],
   "source": [
    "df.head()"
   ]
  },
  {
   "cell_type": "code",
   "execution_count": null,
   "id": "ecbfa205-d89b-45e4-9ef2-57e40da0b830",
   "metadata": {},
   "outputs": [],
   "source": [
    "plt.scatter(df['Mileage'], df['Price'])\n",
    "plt.xlabel('Mileage')\n",
    "plt.ylabel('Price')\n",
    "plt.show()"
   ]
  },
  {
   "cell_type": "code",
   "execution_count": null,
   "id": "2399c457-0fba-4cde-aadd-3ec2a59c139d",
   "metadata": {},
   "outputs": [],
   "source": [
    "X = df[['Mileage']] \n",
    "y = df['Price']\n",
    "\n",
    "print(X)\n",
    "print(y)"
   ]
  },
  {
   "cell_type": "code",
   "execution_count": null,
   "id": "d32cf82d-0e7a-4e28-afab-505b5432d69f",
   "metadata": {},
   "outputs": [],
   "source": [
    "#Data Cleaning and Outlier Handling\n",
    "\n",
    "df['Mileage'] = pd.to_numeric(df['Mileage'].astype(str).str.replace(',', ''), errors='coerce')\n",
    "df['Price']   = pd.to_numeric(df['Price'].astype(str).str.replace(',', ''), errors='coerce')\n",
    "\n",
    "df.dropna(subset=['Mileage', 'Price'], inplace=True)\n",
    "df.reset_index(drop=True, inplace=True)\n",
    "print(\"Data types converted and missing values dropped.\")\n",
    "\n",
    "\n",
    "# Using the IQR method to remove outliers \n",
    "print(f\"\\nShape before outlier removal: {df.shape}\")\n",
    "\n",
    "Q1 = df[['Mileage', 'Price']].quantile(0.25)\n",
    "Q3 = df[['Mileage', 'Price']].quantile(0.75)\n",
    "IQR = Q3 - Q1\n",
    "\n",
    "lower_bound = Q1 - 1.5 * IQR\n",
    "upper_bound = Q3 + 1.5 * IQR\n",
    "\n",
    "df_cleaned = df[~((df[['Mileage', 'Price']] < lower_bound) | (df[['Mileage', 'Price']] > upper_bound)).any(axis=1)].copy()\n",
    "\n",
    "print(f\"Shape after outlier removal: {df_cleaned.shape}\")\n",
    "\n",
    "\n",
    "#Updating X and y variables to use the final cleaned data\n",
    "\n",
    "X = df_cleaned[['Mileage']]\n",
    "y = df_cleaned['Price']\n",
    "\n",
    "print(\"\\nX and y variables have been updated with cleaned data.\")"
   ]
  },
  {
   "cell_type": "code",
   "execution_count": null,
   "id": "81fca806-18d5-4d8d-8f0b-748132e37be2",
   "metadata": {},
   "outputs": [],
   "source": [
    "# Inspect cleaned data\n",
    "df.info()\n",
    "df.describe()"
   ]
  },
  {
   "cell_type": "code",
   "execution_count": 24,
   "id": "f6c6040a-28d8-489b-bd67-bcb3d7948dcc",
   "metadata": {},
   "outputs": [],
   "source": [
    "#Splitting into train and test\n",
    "from sklearn.model_selection import train_test_split"
   ]
  },
  {
   "cell_type": "code",
   "execution_count": null,
   "id": "e3c235f9-ccca-4eb4-9a1f-5ac81c7aada0",
   "metadata": {},
   "outputs": [],
   "source": [
    "X_train, X_test, y_train, y_test = train_test_split(\n",
    "    X, y, test_size=0.20, random_state=42\n",
    ")\n",
    "\n",
    "print(f\"Training set contains {X_train.shape[0]} samples.\")\n",
    "print(f\"Testing set contains {X_test.shape[0]} samples.\")"
   ]
  },
  {
   "cell_type": "code",
   "execution_count": null,
   "id": "f1c8641c-a7ee-4f17-b41a-a9c3673abcf3",
   "metadata": {},
   "outputs": [],
   "source": [
    "# Apply the Logarithmic Transformation to the target variable\n",
    "y_train_log = np.log1p(y_train)\n",
    "\n",
    "# Visualizing the transformed relationship\n",
    "plt.figure(figsize=(8, 5))\n",
    "plt.scatter(X_train, y_train_log)\n",
    "plt.title('Transformed Data: Mileage vs. Log of Price')\n",
    "plt.xlabel('Mileage')\n",
    "plt.ylabel('Log of Price')\n",
    "plt.show()"
   ]
  },
  {
   "cell_type": "code",
   "execution_count": 27,
   "id": "6c5bfae1-c7bb-4542-a5ed-d2fa69000ef7",
   "metadata": {},
   "outputs": [],
   "source": [
    "# Training a Linear Regression model on the transformed data\n",
    "from sklearn.linear_model import LinearRegression"
   ]
  },
  {
   "cell_type": "code",
   "execution_count": null,
   "id": "3bb92cba-c0f6-4b71-8462-da9399e02810",
   "metadata": {},
   "outputs": [],
   "source": [
    "log_model = LinearRegression()\n",
    "log_model.fit(X_train, y_train_log)\n",
    "\n",
    "print(\"Linear Regression model has been trained on the log-transformed data.\")"
   ]
  },
  {
   "cell_type": "code",
   "execution_count": null,
   "id": "8ba1f94d-22b2-4039-87e9-7eaa31983187",
   "metadata": {},
   "outputs": [],
   "source": [
    "#Predict on the test set and convert back to original scale [log->exp]\n",
    "\n",
    "log_predictions = log_model.predict(X_test)\n",
    "\n",
    "price_predictions = np.expm1(log_predictions)\n",
    "\n",
    "print(\"Predictions made on the test set and converted back to the original price scale.\")\n",
    "print(\"\\nFirst 5 Predicted Prices:\")\n",
    "print(price_predictions[:5])"
   ]
  },
  {
   "cell_type": "code",
   "execution_count": 31,
   "id": "2e4cfad8-a134-4d48-b8bb-bc4b107db6ec",
   "metadata": {},
   "outputs": [],
   "source": [
    "#Evaluate the model using standard metrics\n",
    "from sklearn.metrics import mean_squared_error, r2_score"
   ]
  },
  {
   "cell_type": "code",
   "execution_count": null,
   "id": "3b28fc77-da15-40bd-b0ec-2a4c7d9e7874",
   "metadata": {},
   "outputs": [],
   "source": [
    "mse = mean_squared_error(y_test, price_predictions)\n",
    "rmse = np.sqrt(mse)\n",
    "r2 = r2_score(y_test, price_predictions)\n",
    "\n",
    "print(f\"Root Mean Squared Error (RMSE): ${rmse:.2f}\")\n",
    "print(f\"R2 Score: {r2:.3f}\")"
   ]
  },
  {
   "cell_type": "code",
   "execution_count": null,
   "id": "017ec3a6-27d5-4a8b-a25c-7b2198257925",
   "metadata": {},
   "outputs": [],
   "source": [
    "#Plot actual vs predicted and the logarithmic regression curve\n",
    "plt.figure(figsize=(10, 6))\n",
    "plt.scatter(X_test, y_test, label='Actual Test Data', s=20, alpha=0.6)\n",
    "\n",
    "X_range = pd.DataFrame(np.linspace(X['Mileage'].min(), X['Mileage'].max(), 200), columns=['Mileage'])\n",
    "log_range_pred = log_model.predict(X_range)\n",
    "price_range_pred = np.expm1(log_range_pred)\n",
    "\n",
    "plt.plot(X_range, price_range_pred, color='red', linewidth=3, label='Logarithmic Regression Curve')\n",
    "\n",
    "plt.title('Logarithmic Regression Model Fit')\n",
    "plt.xlabel('Mileage')\n",
    "plt.ylabel('Price')\n",
    "plt.legend()\n",
    "plt.show()"
   ]
  },
  {
   "cell_type": "code",
   "execution_count": null,
   "id": "02a55fc1-81e2-4145-ab65-d2ae9084de3d",
   "metadata": {},
   "outputs": [],
   "source": [
    "#Predict the price for a new mileage value\n",
    "\n",
    "new_mileage = float(input(\"Enter the mileage of the car: \"))\n",
    "\n",
    "new_car_data = pd.DataFrame({'Mileage': [new_mileage]})\n",
    "\n",
    "#Predicting the price in the log scale\n",
    "log_price_prediction = log_model.predict(new_car_data)\n",
    "\n",
    "#Converting the prediction back to the original price scale\n",
    "predicted_price = np.expm1(log_price_prediction)\n",
    "\n",
    "print(f\"The predicted price for a car with {new_mileage} mileage is: ${predicted_price[0]:,.2f}\")"
   ]
  },
  {
   "cell_type": "code",
   "execution_count": 36,
   "id": "da38f610-3f57-4532-ba7c-9363d174133b",
   "metadata": {},
   "outputs": [],
   "source": [
    "import joblib"
   ]
  },
  {
   "cell_type": "code",
   "execution_count": null,
   "id": "cd229caf-1ee5-4790-97b6-ab3fd18e3e55",
   "metadata": {},
   "outputs": [],
   "source": [
    "joblib.dump(log_model, 'model.pkl')\n",
    "print(\"Model saved as model.pkl\")"
   ]
  },
  {
   "cell_type": "code",
   "execution_count": null,
   "id": "aaaa82a2-0b53-401f-8070-5952b61ea725",
   "metadata": {},
   "outputs": [],
   "source": []
  }
 ],
 "metadata": {
  "kernelspec": {
   "display_name": "LinearReg (venv)",
   "language": "python",
   "name": "linear-reg-env"
  },
  "language_info": {
   "codemirror_mode": {
    "name": "ipython",
    "version": 3
   },
   "file_extension": ".py",
   "mimetype": "text/x-python",
   "name": "python",
   "nbconvert_exporter": "python",
   "pygments_lexer": "ipython3",
   "version": "3.13.2"
  }
 },
 "nbformat": 4,
 "nbformat_minor": 5
}
