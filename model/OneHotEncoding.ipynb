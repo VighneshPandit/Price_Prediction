{
 "cells": [
  {
   "cell_type": "code",
   "execution_count": null,
   "id": "1d35985c-2eef-4fe0-8ec9-77bfe748a8cd",
   "metadata": {},
   "outputs": [],
   "source": [
    "import numpy as np\n",
    "import pandas as pd"
   ]
  },
  {
   "cell_type": "code",
   "execution_count": null,
   "id": "4d4669c5-6cbd-49e5-8751-2a47bf41907e",
   "metadata": {},
   "outputs": [],
   "source": [
    "df = pd.read_csv(\"data/car_sales_data.csv\")"
   ]
  },
  {
   "cell_type": "code",
   "execution_count": null,
   "id": "f53f5fb2-978b-4b27-b524-06154c053789",
   "metadata": {},
   "outputs": [],
   "source": [
    "print(df.shape)\n",
    "df.info()"
   ]
  },
  {
   "cell_type": "code",
   "execution_count": null,
   "id": "c4bda82f-51c3-4ad6-9bc2-e1fd452c8ff8",
   "metadata": {},
   "outputs": [],
   "source": [
    "df.head()"
   ]
  },
  {
   "cell_type": "code",
   "execution_count": null,
   "id": "7a2d6a72-aba5-4dd4-a125-0f2c0aa10370",
   "metadata": {},
   "outputs": [],
   "source": [
    "print(df.describe())\n",
    "print(df.isnull().sum())"
   ]
  },
  {
   "cell_type": "code",
   "execution_count": null,
   "id": "3127aa35-c2a3-4ac1-9cd7-6bbdf4f7af83",
   "metadata": {},
   "outputs": [],
   "source": [
    "df['Manufacturer'].value_counts()"
   ]
  },
  {
   "cell_type": "code",
   "execution_count": null,
   "id": "e12502aa-b841-4ebe-9d3c-09c5b55f873c",
   "metadata": {},
   "outputs": [],
   "source": [
    "df['Manufacturer'].nunique()"
   ]
  },
  {
   "cell_type": "code",
   "execution_count": null,
   "id": "83315455-c808-4c8c-895d-82de3768a13f",
   "metadata": {},
   "outputs": [],
   "source": [
    "df['Model'].value_counts()"
   ]
  },
  {
   "cell_type": "code",
   "execution_count": null,
   "id": "87474cee-7dc4-476e-80fe-9ab5b4a10158",
   "metadata": {},
   "outputs": [],
   "source": [
    "df['Model'].nunique()"
   ]
  },
  {
   "cell_type": "code",
   "execution_count": null,
   "id": "7acde783-6c46-48c6-a6db-6d68a5ab184e",
   "metadata": {},
   "outputs": [],
   "source": [
    "df['Engine size'].value_counts()"
   ]
  },
  {
   "cell_type": "code",
   "execution_count": null,
   "id": "e645671f-188a-43a2-a0f4-7eae3127ed30",
   "metadata": {},
   "outputs": [],
   "source": [
    "df['Engine size'].nunique()"
   ]
  },
  {
   "cell_type": "code",
   "execution_count": null,
   "id": "9e9753d1-83f4-4f28-943d-cc58336992fe",
   "metadata": {},
   "outputs": [],
   "source": [
    "df['Year of manufacture'].value_counts()"
   ]
  },
  {
   "cell_type": "code",
   "execution_count": null,
   "id": "0389797e-709f-4457-a280-9a8529d88fb5",
   "metadata": {},
   "outputs": [],
   "source": [
    "df['Engine size'].max()"
   ]
  },
  {
   "cell_type": "code",
   "execution_count": null,
   "id": "9cd6d0b1-fe74-4549-aeae-905b5976b19f",
   "metadata": {},
   "outputs": [],
   "source": [
    "df['Year of manufacture'].nunique()"
   ]
  },
  {
   "cell_type": "code",
   "execution_count": null,
   "id": "377db61f-ace3-42c5-a009-dfa6464d86e4",
   "metadata": {},
   "outputs": [],
   "source": [
    "import matplotlib.pyplot as plt\n",
    "import seaborn as sns"
   ]
  },
  {
   "cell_type": "code",
   "execution_count": null,
   "id": "2229a8ec-1a88-4b7b-b234-c68da99bb214",
   "metadata": {},
   "outputs": [],
   "source": [
    "# Price distribution\n",
    "plt.figure(figsize=(6,4))\n",
    "sns.histplot(df['Price'], bins=40, kde=True)\n",
    "plt.title(\"Distribution of Car Price\")\n",
    "plt.show()"
   ]
  },
  {
   "cell_type": "code",
   "execution_count": null,
   "id": "3149157d-eee8-4d55-99e5-13f3c358f0ee",
   "metadata": {},
   "outputs": [],
   "source": [
    "# Boxplot to detect outliers in Price\n",
    "plt.figure(figsize=(6,2))\n",
    "sns.boxplot(x=df['Price'])\n",
    "plt.title(\"Boxplot of Price\")\n",
    "plt.show()"
   ]
  },
  {
   "cell_type": "code",
   "execution_count": null,
   "id": "9b0d9675-f959-4f0f-b851-82e95be907b6",
   "metadata": {},
   "outputs": [],
   "source": [
    "# Engine Size vs Price\n",
    "plt.figure(figsize=(6,4))\n",
    "sns.scatterplot(x='Engine size', y='Price', data=df)\n",
    "plt.title(\"Price vs Engine Size\")\n",
    "plt.show()"
   ]
  },
  {
   "cell_type": "code",
   "execution_count": null,
   "id": "4bdea035-aa8d-4938-b1fa-ce89ad5339d3",
   "metadata": {},
   "outputs": [],
   "source": [
    "# Mileage vs Price\n",
    "plt.figure(figsize=(6,4))\n",
    "sns.scatterplot(x='Mileage', y='Price', data=df)\n",
    "plt.title(\"Price vs Mileage\")\n",
    "plt.show()"
   ]
  },
  {
   "cell_type": "code",
   "execution_count": null,
   "id": "31a51da4-f6b5-464d-ae7c-b8aa78c61231",
   "metadata": {},
   "outputs": [],
   "source": [
    "plt.figure(figsize=(6,4))\n",
    "sns.scatterplot(x='Year of manufacture', y='Price', data=df)\n",
    "plt.title(\"Price vs Year of Manufacture\")\n",
    "plt.xlabel(\"Year of Manufacture\")\n",
    "plt.ylabel(\"Price\")\n",
    "plt.show()"
   ]
  },
  {
   "cell_type": "code",
   "execution_count": null,
   "id": "f099dcc9-1170-4c22-ac7a-c30cd6c9fa44",
   "metadata": {},
   "outputs": [],
   "source": [
    "#Handle Outliers using IQR Method\n",
    "\n",
    "#List of numeric columns to check\n",
    "numeric_cols = ['Engine size', 'Mileage', 'Price']\n",
    "\n",
    "for col in numeric_cols:\n",
    "    Q1 = df[col].quantile(0.25)\n",
    "    Q3 = df[col].quantile(0.75)\n",
    "    IQR = Q3 - Q1\n",
    "\n",
    "    lower_limit = Q1 - 1.5 * IQR\n",
    "    upper_limit = Q3 + 1.5 * IQR\n",
    "\n",
    "    #limits \n",
    "    print(f\"{col} → Lower: {lower_limit:.2f}, Upper: {upper_limit:.2f}\")\n",
    "\n",
    "    df = df[(df[col] >= lower_limit) & (df[col] <= upper_limit)]\n",
    "\n",
    "#Checking new dataset shape after removing outliers\n",
    "print(\"\\nAfter removing outliers:\")\n",
    "print(df.shape)"
   ]
  },
  {
   "cell_type": "code",
   "execution_count": null,
   "id": "a5b46a6c-dfa7-49f3-a4b1-0bd2ca599627",
   "metadata": {},
   "outputs": [],
   "source": [
    "#Visualize boxplots after removing outliers\n",
    "plt.figure(figsize=(12,4))\n",
    "\n",
    "for i, col in enumerate(['Engine size', 'Mileage', 'Price']):\n",
    "    plt.subplot(1, 3, i+1)\n",
    "    sns.boxplot(x=df[col])\n",
    "    plt.title(col)\n",
    "\n",
    "plt.tight_layout()\n",
    "plt.show()\n"
   ]
  },
  {
   "cell_type": "code",
   "execution_count": null,
   "id": "300ff5bc-b5a1-4ff9-b3b8-1701bbe08864",
   "metadata": {},
   "outputs": [],
   "source": [
    "CURRENT_YEAR = 2025  \n",
    "\n",
    "df['Age'] = CURRENT_YEAR - df['Year of manufacture']\n",
    "\n",
    "df['Mileage_per_year'] = df['Mileage'] / df['Age'].replace(0, np.nan)\n",
    "\n",
    "print(df[['Year of manufacture', 'Age', 'Mileage', 'Mileage_per_year']].head())"
   ]
  },
  {
   "cell_type": "code",
   "execution_count": null,
   "id": "ae0599df-71ff-4dce-afe3-0285fb83a8be",
   "metadata": {},
   "outputs": [],
   "source": [
    "#Handling categorical columns\n",
    "\n",
    "categorical_cols = ['Manufacturer', 'Model', 'Fuel type']\n",
    "\n",
    "for col in categorical_cols:\n",
    "    print(f\"\\nColumn: {col}\")\n",
    "    print(df[col].value_counts().head(10))  # show top 10\n",
    "    print(f\"Unique values in {col}: {df[col].nunique()}\")\n",
    "\n",
    "#Handling rare categories \n",
    "\n",
    "for col in categorical_cols:\n",
    "    counts = df[col].value_counts()\n",
    "    rare_labels = counts[counts < 50].index\n",
    "    df[col] = df[col].replace(rare_labels, 'Other')\n",
    "\n",
    "#Applying One-Hot Encoding\n",
    "df_encoded = pd.get_dummies(df, columns=categorical_cols, drop_first=True)\n",
    "\n",
    "print(\"\\n✅ After encoding:\", df_encoded.shape)\n",
    "df_encoded.head()"
   ]
  },
  {
   "cell_type": "code",
   "execution_count": null,
   "id": "38e35fdc-2252-43d7-8191-786f03a6ad57",
   "metadata": {},
   "outputs": [],
   "source": [
    "X = df_encoded.drop('Price', axis=1)\n",
    "y = df_encoded['Price']"
   ]
  },
  {
   "cell_type": "code",
   "execution_count": null,
   "id": "c5c8f670-1038-48ab-977b-b73705b17a76",
   "metadata": {},
   "outputs": [],
   "source": [
    "from sklearn.model_selection import train_test_split\n",
    "\n",
    "X_train, X_test, y_train, y_test = train_test_split(X, y, test_size=0.2, random_state=42)"
   ]
  },
  {
   "cell_type": "code",
   "execution_count": null,
   "id": "f4c44d6a-d6a1-460b-a2ce-fcb9af7138e8",
   "metadata": {},
   "outputs": [],
   "source": [
    "print(\"Training data shape:\", X_train.shape)\n",
    "print(\"Testing data shape:\", X_test.shape)"
   ]
  },
  {
   "cell_type": "code",
   "execution_count": null,
   "id": "07ad1ce7-d532-4bb0-9701-98595935bb9d",
   "metadata": {},
   "outputs": [],
   "source": [
    "from sklearn.linear_model import LinearRegression\n",
    "from sklearn.metrics import r2_score, mean_absolute_error, mean_squared_error\n",
    "\n",
    "#Create and train the model\n",
    "lr = LinearRegression()\n",
    "lr.fit(X_train, y_train)\n",
    "\n",
    "#Predictions\n",
    "y_pred = lr.predict(X_test)\n",
    "\n",
    "print(\"R2 Score:\", r2_score(y_test, y_pred))\n",
    "print(\"MAE:\", mean_absolute_error(y_test, y_pred))\n",
    "print(\"RMSE:\", np.sqrt(mean_squared_error(y_test, y_pred)))"
   ]
  },
  {
   "cell_type": "code",
   "execution_count": null,
   "id": "b4d5ec1a-8c17-4789-8a94-38ab6f9c3e71",
   "metadata": {},
   "outputs": [],
   "source": [
    "plt.figure(figsize=(6,6))\n",
    "plt.scatter(y_test, y_pred, alpha=0.5)\n",
    "plt.xlabel(\"Actual Price\")\n",
    "plt.ylabel(\"Predicted Price\")\n",
    "plt.title(\"Actual vs Predicted Car Prices\")\n",
    "plt.show()"
   ]
  },
  {
   "cell_type": "code",
   "execution_count": null,
   "id": "a3d5ea65-9f99-47ea-9f11-a0165224947a",
   "metadata": {},
   "outputs": [],
   "source": [
    "import matplotlib.pyplot as plt\n",
    "import seaborn as sns"
   ]
  },
  {
   "cell_type": "code",
   "execution_count": null,
   "id": "1127b613-468c-4d60-93d4-4aeb364bb6bf",
   "metadata": {},
   "outputs": [],
   "source": [
    "r2 = r2_score(y_test, y_pred)\n",
    "mae = mean_absolute_error(y_test, y_pred)\n",
    "rmse = np.sqrt(mean_squared_error(y_test, y_pred))\n",
    "\n",
    "print(f\"R2 Score: {r2:.4f}\")\n",
    "print(f\"MAE: {mae:.2f}\")\n",
    "print(f\"RMSE: {rmse:.2f}\")"
   ]
  },
  {
   "cell_type": "code",
   "execution_count": null,
   "id": "3605f0d8-eab2-49e4-96a3-ebda32b59003",
   "metadata": {},
   "outputs": [],
   "source": [
    "#Residuals\n",
    "residuals = y_test - y_pred\n",
    "\n",
    "#1)Residuals histogram (check normality / skew)\n",
    "plt.figure(figsize=(6,4))\n",
    "sns.histplot(residuals, kde=True)\n",
    "plt.title(\"Residuals Distribution (y_test - y_pred)\")\n",
    "plt.xlabel(\"Residual\")\n",
    "plt.show()"
   ]
  },
  {
   "cell_type": "code",
   "execution_count": null,
   "id": "ec9acad2-4322-4142-aeed-677e8dd4df28",
   "metadata": {},
   "outputs": [],
   "source": [
    "#2)Residuals vs Predicted \n",
    "plt.figure(figsize=(6,4))\n",
    "plt.scatter(y_pred, residuals, alpha=0.5)\n",
    "plt.axhline(0, color='red', linestyle='--')\n",
    "plt.xlabel(\"Predicted Price\")\n",
    "plt.ylabel(\"Residual (Actual - Predicted)\")\n",
    "plt.title(\"Residuals vs Predicted\")\n",
    "plt.show()"
   ]
  },
  {
   "cell_type": "code",
   "execution_count": null,
   "id": "f9a442e1-bae0-4fa1-95ed-7767c1d8788a",
   "metadata": {},
   "outputs": [],
   "source": [
    "#3)Q-Q plot for residuals \n",
    "import scipy.stats as stats\n",
    "plt.figure(figsize=(6,4))\n",
    "stats.probplot(residuals, dist=\"norm\", plot=plt)\n",
    "plt.title(\"Q-Q plot of residuals\")\n",
    "plt.show()"
   ]
  },
  {
   "cell_type": "code",
   "execution_count": null,
   "id": "2795dc52-48da-45ed-9712-f86af3a635d4",
   "metadata": {},
   "outputs": [],
   "source": [
    "#Log transform the target\n",
    "y_train_log = np.log(y_train)\n",
    "y_test_log = np.log(y_test)\n",
    "\n",
    "#Retrain linear regression on log-transformed target\n",
    "lr_log = LinearRegression()\n",
    "lr_log.fit(X_train, y_train_log)\n",
    "\n",
    "y_pred_log = lr_log.predict(X_test)\n",
    "\n",
    "y_pred_exp = np.exp(y_pred_log)\n",
    "\n",
    "print(\"After Log Transformation:\")\n",
    "print(f\"R2 Score: {r2_score(y_test, y_pred_exp):.4f}\")\n",
    "print(f\"MAE: {mean_absolute_error(y_test, y_pred_exp):.2f}\")\n",
    "print(f\"RMSE: {np.sqrt(mean_squared_error(y_test, y_pred_exp)):.2f}\")\n"
   ]
  },
  {
   "cell_type": "code",
   "execution_count": null,
   "id": "8512f991-7360-401f-a812-661de41b4a79",
   "metadata": {},
   "outputs": [],
   "source": [
    "import matplotlib.pyplot as plt"
   ]
  },
  {
   "cell_type": "code",
   "execution_count": null,
   "id": "0d099418-5c43-49b3-853e-ebdb7222037e",
   "metadata": {},
   "outputs": [],
   "source": [
    "plt.figure(figsize=(6,6))\n",
    "plt.scatter(y_test, y_pred_exp, alpha=0.5)\n",
    "plt.xlabel(\"Actual Price\")\n",
    "plt.ylabel(\"Predicted Price (After Log Transform)\")\n",
    "plt.title(\"Actual vs Predicted Car Prices (Log Model)\")\n",
    "plt.show()"
   ]
  },
  {
   "cell_type": "code",
   "execution_count": null,
   "id": "bfffc68f-addf-47e9-b804-5f883255e6c5",
   "metadata": {},
   "outputs": [],
   "source": [
    "from sklearn.linear_model import Ridge"
   ]
  },
  {
   "cell_type": "code",
   "execution_count": null,
   "id": "efd5f210-5450-47dc-8429-823613178f48",
   "metadata": {},
   "outputs": [],
   "source": [
    "ridge = Ridge(alpha=1.0) \n",
    "ridge.fit(X_train, y_train_log)\n",
    "\n",
    "#Prediction and revert back\n",
    "y_pred_ridge_log = ridge.predict(X_test)\n",
    "y_pred_ridge_exp = np.exp(y_pred_ridge_log)\n",
    "\n",
    "print(\"🔹 Ridge Regression Results:\")\n",
    "print(f\"R2 Score: {r2_score(y_test, y_pred_ridge_exp):.4f}\")\n",
    "print(f\"MAE: {mean_absolute_error(y_test, y_pred_ridge_exp):.2f}\")\n",
    "print(f\"RMSE: {np.sqrt(mean_squared_error(y_test, y_pred_ridge_exp)):.2f}\")"
   ]
  },
  {
   "cell_type": "code",
   "execution_count": null,
   "id": "175546e4-8d43-4d84-9af8-7eeb0e44fc19",
   "metadata": {},
   "outputs": [],
   "source": [
    "from sklearn.linear_model import Lasso"
   ]
  },
  {
   "cell_type": "code",
   "execution_count": null,
   "id": "b9f51593-91e0-44c9-9470-8331b7110cd3",
   "metadata": {},
   "outputs": [],
   "source": [
    "lasso = Lasso(alpha=0.001)\n",
    "lasso.fit(X_train, y_train_log)\n",
    "\n",
    "y_pred_lasso_log = lasso.predict(X_test)\n",
    "y_pred_lasso_exp = np.exp(y_pred_lasso_log)\n",
    "\n",
    "print(\"🔹 Lasso Regression Results:\")\n",
    "print(f\"R2 Score: {r2_score(y_test, y_pred_lasso_exp):.4f}\")\n",
    "print(f\"MAE: {mean_absolute_error(y_test, y_pred_lasso_exp):.2f}\")\n",
    "print(f\"RMSE: {np.sqrt(mean_squared_error(y_test, y_pred_lasso_exp)):.2f}\")"
   ]
  },
  {
   "cell_type": "code",
   "execution_count": null,
   "id": "23b7f204-2e27-4178-bef7-54f73efd8490",
   "metadata": {},
   "outputs": [],
   "source": [
    "import joblib\n",
    "\n",
    "#Saving the model and columns\n",
    "joblib.dump(ridge, \"car_price_model.pkl\")\n",
    "joblib.dump(X_train.columns.tolist(), \"model_columns.pkl\")\n",
    "\n",
    "print(\"✅ Model and columns saved!\")\n"
   ]
  },
  {
   "cell_type": "code",
   "execution_count": null,
   "id": "1a7f72d4-29fa-4dcd-aa3c-1a6fc4189061",
   "metadata": {},
   "outputs": [],
   "source": [
    "#Loading the model\n",
    "loaded_model = joblib.load(\"car_price_model.pkl\")\n",
    "\n",
    "#Make prediction using the loaded model\n",
    "sample_pred = loaded_model.predict(X_test[:5])\n",
    "\n",
    "sample_pred_exp = np.exp(sample_pred)\n",
    "\n",
    "print(\"Predicted Prices:\", sample_pred_exp)\n",
    "print(\"Actual Prices:\", y_test[:5].values)"
   ]
  },
  {
   "cell_type": "code",
   "execution_count": null,
   "id": "691643f4-d27a-4084-9e66-f17f12f4a68f",
   "metadata": {},
   "outputs": [],
   "source": [
    "#Example \n",
    "new_car = {\n",
    "    'Manufacturer': ['Toyota'],\n",
    "    'Model': ['Yaris'],\n",
    "    'Engine size': [1.5],\n",
    "    'Fuel type': ['Petrol'],\n",
    "    'Year of manufacture': [2018],\n",
    "    'Mileage': [45000]\n",
    "}\n",
    "\n",
    "#Convert to DataFrame\n",
    "new_car_df = pd.DataFrame(new_car)\n"
   ]
  },
  {
   "cell_type": "code",
   "execution_count": null,
   "id": "8d464bb8-5263-4e25-9ab5-e59464f6ae14",
   "metadata": {},
   "outputs": [],
   "source": [
    "#Aligning the new input columns with the training set\n",
    "new_car_encoded = pd.get_dummies(new_car_df, drop_first=True)\n",
    "\n",
    "#Reindexing to match X_train columns\n",
    "new_car_encoded = new_car_encoded.reindex(columns=X_train.columns, fill_value=0)\n"
   ]
  },
  {
   "cell_type": "code",
   "execution_count": null,
   "id": "0c0df55f-5616-4314-9010-da673885c01c",
   "metadata": {},
   "outputs": [],
   "source": [
    "#Predicting (log scale) and then revert to normal price\n",
    "predicted_log_price = loaded_model.predict(new_car_encoded)\n",
    "predicted_price = np.exp(predicted_log_price)\n",
    "\n",
    "print(f\"Estimated Price for this car: ₹{predicted_price[0]:,.2f}\")\n"
   ]
  },
  {
   "cell_type": "code",
   "execution_count": null,
   "id": "ebd7fe47-dcd6-4648-83a3-430739d96c10",
   "metadata": {},
   "outputs": [],
   "source": []
  }
 ],
 "metadata": {
  "kernelspec": {
   "display_name": "LinearReg (venv)",
   "language": "python",
   "name": "linear-reg-env"
  },
  "language_info": {
   "codemirror_mode": {
    "name": "ipython",
    "version": 3
   },
   "file_extension": ".py",
   "mimetype": "text/x-python",
   "name": "python",
   "nbconvert_exporter": "python",
   "pygments_lexer": "ipython3",
   "version": "3.13.2"
  }
 },
 "nbformat": 4,
 "nbformat_minor": 5
}
